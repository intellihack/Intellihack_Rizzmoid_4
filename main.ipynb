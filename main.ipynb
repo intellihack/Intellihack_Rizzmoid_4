{
  "cells": [
    {
      "cell_type": "code",
      "execution_count": 1,
      "metadata": {
        "colab": {
          "base_uri": "https://localhost:8080/"
        },
        "id": "hFRCFsnToYk8",
        "outputId": "a649548f-68d6-4d56-8243-6a3a96549f71"
      },
      "outputs": [
        {
          "name": "stdout",
          "output_type": "stream",
          "text": [
            "Colab only includes TensorFlow 2.x; %tensorflow_version has no effect.\n"
          ]
        },
        {
          "name": "stderr",
          "output_type": "stream",
          "text": [
            "WARNING:tensorflow:From <ipython-input-1-d083c0c43ca0>:27: categorical_column_with_vocabulary_list (from tensorflow.python.feature_column.feature_column_v2) is deprecated and will be removed in a future version.\n",
            "Instructions for updating:\n",
            "Use Keras preprocessing layers instead, either directly or via the `tf.keras.utils.FeatureSpace` utility. Each of `tf.feature_column.*` has a functional equivalent in `tf.keras.layers` for feature preprocessing when training a Keras model.\n",
            "WARNING:tensorflow:From <ipython-input-1-d083c0c43ca0>:30: numeric_column (from tensorflow.python.feature_column.feature_column_v2) is deprecated and will be removed in a future version.\n",
            "Instructions for updating:\n",
            "Use Keras preprocessing layers instead, either directly or via the `tf.keras.utils.FeatureSpace` utility. Each of `tf.feature_column.*` has a functional equivalent in `tf.keras.layers` for feature preprocessing when training a Keras model.\n"
          ]
        },
        {
          "name": "stdout",
          "output_type": "stream",
          "text": [
            "[VocabularyListCategoricalColumn(key='sex', vocabulary_list=('male', 'female'), dtype=tf.string, default_value=-1, num_oov_buckets=0), VocabularyListCategoricalColumn(key='n_siblings_spouses', vocabulary_list=(1, 0, 3, 4, 2, 5, 8), dtype=tf.int64, default_value=-1, num_oov_buckets=0), VocabularyListCategoricalColumn(key='parch', vocabulary_list=(0, 1, 2, 5, 3, 4), dtype=tf.int64, default_value=-1, num_oov_buckets=0), VocabularyListCategoricalColumn(key='class', vocabulary_list=('Third', 'First', 'Second'), dtype=tf.string, default_value=-1, num_oov_buckets=0), VocabularyListCategoricalColumn(key='deck', vocabulary_list=('unknown', 'C', 'G', 'A', 'B', 'D', 'F', 'E'), dtype=tf.string, default_value=-1, num_oov_buckets=0), VocabularyListCategoricalColumn(key='embark_town', vocabulary_list=('Southampton', 'Cherbourg', 'Queenstown', 'unknown'), dtype=tf.string, default_value=-1, num_oov_buckets=0), VocabularyListCategoricalColumn(key='alone', vocabulary_list=('n', 'y'), dtype=tf.string, default_value=-1, num_oov_buckets=0), NumericColumn(key='age', shape=(1,), default_value=None, dtype=tf.float32, normalizer_fn=None), NumericColumn(key='fare', shape=(1,), default_value=None, dtype=tf.float32, normalizer_fn=None)]\n"
          ]
        }
      ],
      "source": [
        "%tensorflow_version 2.x\n",
        "from __future__ import absolute_import, division, print_function, unicode_literals\n",
        "\n",
        "import numpy as np\n",
        "import pandas as pd\n",
        "import matplotlib.pyplot as plt\n",
        "from IPython.display import clear_output\n",
        "from six.moves import urllib\n",
        "from sklearn.model_selection import train_test_split\n",
        "\n",
        "import tensorflow.compat.v2.feature_column as fc\n",
        "\n",
        "import tensorflow as tf\n",
        "\n",
        "df = pd.read_csv('Watches Bags Accessories.csv', encoding='latin1')\n"
      ]
    },
    {
      "cell_type": "code",
      "execution_count": null,
      "metadata": {
        "id": "67d1e5tXqJy1"
      },
      "outputs": [],
      "source": [
        "import re\n",
        "\n",
        "# # format Sold Count Column\n",
        "def convert_sold_count(s):\n",
        "    if 'Sold' in s:\n",
        "        return s.replace(' Sold', '')\n",
        "    if 'K' in s:\n",
        "        return int(float(s.replace('K', '')) * 1000)\n",
        "    else:\n",
        "        return int(s)\n",
        "\n",
        "df['Sold Count'] = df['Sold Count'].apply(convert_sold_count)\n",
        "\n",
        "# format Rating in Stars Colum\n",
        "def format_rating(s):\n",
        "    patterns = [\n",
        "        (r'(\\d+(\\.\\d+)?)\\/\\d+', lambda m: m.group(1)), \n",
        "        (r'(\\d+)-\\w+', lambda m: m.group(1)),          \n",
        "        (r'\\d+(\\.\\d+)?', lambda m: m.group())        \n",
        "    ]\n",
        "    for pattern, func in patterns:\n",
        "        match = re.match(pattern, s)\n",
        "        if match:\n",
        "            return func(match)\n",
        "    return None  \n",
        "\n",
        "df['Rating in Stars'] = df['Rating in Stars'].apply(format_rating)\n",
        "\n",
        "# format Delivery Column\n",
        "df['Delivery'] = df['Delivery'].replace({'Free Delivery': 1})\n",
        "\n",
        "# format Voucher Column\n",
        "def convert_Voucher(s):\n",
        "    if 'Vouchers' in s:\n",
        "        return int(float(s.replace('Vouchers', '')))\n",
        "\n",
        "df['Voucher'] = df['Voucher'].apply(convert_sold_count)\n",
        "\n",
        "# format Original Price Column\n",
        "def convert_Voucher(s):\n",
        "    if 'Original Price' in s:\n",
        "        return int(float(s.replace('Rs. ', '')))\n",
        "\n",
        "df['Original Price'] = df['Original Price'].apply(convert_sold_count)"
      ]
    },
    {
      "cell_type": "code",
      "execution_count": null,
      "metadata": {
        "id": "d58Yf_HfqNi-"
      },
      "outputs": [],
      "source": [
        "y = df[\"Sold Count\"]\n",
        "X = df.drop([\"Title\", \"Sold Count\"], axis=1)\n",
        "\n",
        "\n",
        "X_train, X_test, y_train, y_test = train_test_split(X, y, test_size=0.2, random_state=42)\n"
      ]
    }
  ],
  "metadata": {
    "colab": {
      "provenance": []
    },
    "kernelspec": {
      "display_name": "Python 3",
      "name": "python3"
    },
    "language_info": {
      "name": "python"
    }
  },
  "nbformat": 4,
  "nbformat_minor": 0
}
